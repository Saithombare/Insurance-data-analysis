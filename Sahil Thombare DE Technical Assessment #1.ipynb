{
 "cells": [
  {
   "cell_type": "code",
   "execution_count": 82,
   "id": "fd912be7",
   "metadata": {},
   "outputs": [],
   "source": [
    "# Importing libraries"
   ]
  },
  {
   "cell_type": "code",
   "execution_count": 83,
   "id": "12f99e01",
   "metadata": {},
   "outputs": [],
   "source": [
    "import pandas as pd\n",
    "import numpy as np\n",
    "import seaborn as sns\n",
    "import matplotlib.pyplot as plt"
   ]
  },
  {
   "cell_type": "code",
   "execution_count": 84,
   "id": "9b48e2ab",
   "metadata": {},
   "outputs": [],
   "source": [
    "# Reading .csv Files using Pandas"
   ]
  },
  {
   "cell_type": "code",
   "execution_count": 85,
   "id": "a88bd839",
   "metadata": {},
   "outputs": [],
   "source": [
    "# Reading employee_data.csv as df_employee\n",
    "df_employee = pd.read_csv(\"employee_data.csv\")\n",
    "# Reading insurance_data.csv as df_insurance\n",
    "df_insurance = pd.read_csv(\"insurance_data.csv\")\n",
    "# Reading vendor_data.csv as df_vendor\n",
    "df_vendor = pd.read_csv(\"vendor_data.csv\")"
   ]
  },
  {
   "cell_type": "code",
   "execution_count": 86,
   "id": "9ff1e5b6",
   "metadata": {},
   "outputs": [],
   "source": [
    "# Task # 1\n",
    "# Merge the 3 dataset and create 1 view of data.\n",
    "# You can merge insurance_data.csv and employee_data.csv on AGENT_ID \n",
    "# You can merge insurance_data.csv and vendor_data.csv on VENDOR_ID \n",
    "# Note: Use left Outer join as not all claims require Vendor\n",
    "\n",
    "# using pd.merge() to merge the two dataframes.\n",
    "df_insurance_employee = pd.merge(df_employee,df_insurance,how = \"left\" , on = [\"AGENT_ID\"])\n",
    "df_final = pd.merge(df_vendor,df_insurance_employee , how = \"left\", on = [\"VENDOR_ID\"])\n",
    "#Dropping the na data with respect to POLICY_NUMBER as its most imp. column\n",
    "df_final.dropna(subset = [\"POLICY_NUMBER\"], inplace=True)\n",
    "df_final = df_final.reset_index(drop=True)\n",
    "# df_final is the single view of all the dataset"
   ]
  },
  {
   "cell_type": "code",
   "execution_count": 87,
   "id": "726088eb",
   "metadata": {},
   "outputs": [
    {
     "name": "stdout",
     "output_type": "stream",
     "text": [
      "The Top 3 Insurance Types Are INSURANCE_TYPE\n",
      "Life        62599000.0\n",
      "Property    27529000.0\n",
      "Health      12232000.0\n",
      "Name: CLAIM_AMOUNT, dtype: float64\n"
     ]
    },
    {
     "data": {
      "text/plain": [
       "<AxesSubplot:xlabel='INSURANCE_TYPE'>"
      ]
     },
     "execution_count": 87,
     "metadata": {},
     "output_type": "execute_result"
    },
    {
     "data": {
      "image/png": "[encoded data removed]",
      "text/plain": [
       "<Figure size 432x288 with 1 Axes>"
      ]
     },
     "metadata": {
      "needs_background": "light"
     },
     "output_type": "display_data"
    }
   ],
   "source": [
    "# Task #2\n",
    "# Business Leader wants to find Top 3 Insurance Type \n",
    "#where we are getting most insurance claims?\n",
    "\n",
    "# using groupby function to group insurance type with sum of claim amount\n",
    "insurance_type = df_final.groupby(\"INSURANCE_TYPE\")[\"CLAIM_AMOUNT\"].sum()\n",
    "# sorting insuance_type with sort function\n",
    "insurance_type_sort = insurance_type.sort_values(ascending=False)\n",
    "#Finding top 3 values using nlargest function\n",
    "insurance_type_sort_top3 = insurance_type_sort.nlargest(3)\n",
    "#printing top3 values\n",
    "print(f\"The Top 3 Insurance Types Are {insurance_type_sort_top3}\")\n",
    "#plotting bar chart of top 3 Categories\n",
    "insurance_type_sort_top3.plot.bar()\n"
   ]
  },
  {
   "cell_type": "code",
   "execution_count": 88,
   "id": "55f89019",
   "metadata": {},
   "outputs": [
    {
     "name": "stdout",
     "output_type": "stream",
     "text": [
      "Index(['CA', 'CO', 'AR', 'CT', 'AL'], dtype='object', name='STATE')\n"
     ]
    },
    {
     "data": {
      "text/plain": [
       "<AxesSubplot:xlabel='STATE'>"
      ]
     },
     "execution_count": 88,
     "metadata": {},
     "output_type": "execute_result"
    },
    {
     "data": {
      "image/png": "[encoded data removed]",
      "text/plain": [
       "<Figure size 432x288 with 1 Axes>"
      ]
     },
     "metadata": {
      "needs_background": "light"
     },
     "output_type": "display_data"
    }
   ],
   "source": [
    "# Task #3\n",
    "# Business Leader wants to find Top 5 States \n",
    "# where we are getting most insurance claims for customer belonging to HIGH(H) risk segment?\n",
    "\n",
    "# Creating pivot table by indexing with states and aggregates values by taking the sum\n",
    "df_pivot_state = pd.pivot_table(df_final[df_final.RISK_SEGMENTATION==\"H\"],index=[\"STATE\"],aggfunc = np.sum)\n",
    "# sorting pivot table by claim amount\n",
    "df_pivot_state_sort = df_pivot_state.reindex(df_pivot_state[\"CLAIM_AMOUNT\"].sort_values(ascending = False).index)\n",
    "#selecting top 5 states\n",
    "print(df_pivot_state_sort.head(5).index)\n",
    "#plotting bar plot for top 5 states\n",
    "Top5States = df_pivot_state_sort[\"CLAIM_AMOUNT\"].nlargest(5)\n",
    "Top5States.plot.bar()\n",
    "\n"
   ]
  },
  {
   "cell_type": "code",
   "execution_count": 89,
   "id": "8d1a8ba8",
   "metadata": {},
   "outputs": [
    {
     "name": "stderr",
     "output_type": "stream",
     "text": [
      "C:\\Users\\OMKAR\\AppData\\Local\\Temp\\ipykernel_9620\\3606727864.py:8: FutureWarning: The default dtype for empty Series will be 'object' instead of 'float64' in a future version. Specify a dtype explicitly to silence this warning.\n",
      "  COLOCATION = pd.Series([])\n"
     ]
    },
    {
     "name": "stdout",
     "output_type": "stream",
     "text": [
      "The Mean Of The New Column is 0.00429\n"
     ]
    }
   ],
   "source": [
    "# Task #4\n",
    "# Business wants to create a new variable “COLOCATION” \n",
    "# which will have following values \n",
    "# IF Customer State == Incident State == Agent Address State THEN 1 ELSE 0\n",
    "# Find the mean of this new column\n",
    "\n",
    "# Creating empty series for conditional result\n",
    "COLOCATION = pd.Series([])\n",
    "#creating for loop with the length data\n",
    "for i in range(len(df_final)):\n",
    "    # using if And conditions to get conditional results\n",
    "    if df_final[\"STATE_x\"][i] == df_final[\"STATE_y\"][i] and df_final[\"STATE_x\"][i] == df_final[\"INCIDENT_STATE\"][i] and df_final[\"STATE_y\"][i] == df_final[\"INCIDENT_STATE\"][i]:\n",
    "        #if condition satisfies COLOCATION = 1\n",
    "        COLOCATION[i]= 1\n",
    "    # if not Satisfy then COLOCATION = 0\n",
    "    else: COLOCATION[i]= 0    \n",
    "\n",
    "# Converting Series[COLOCATION] to Column of df_final      \n",
    "df_final['COLOCATION'] = pd.DataFrame(COLOCATION) \n",
    "#finding mean of the new column\n",
    "Mean = df_final['COLOCATION'].mean()\n",
    "Mean = format(Mean,\".5f\")\n",
    "print(f\"The Mean Of The New Column is {Mean}\")\n",
    "\n"
   ]
  },
  {
   "cell_type": "code",
   "execution_count": 90,
   "id": "8cd0e908",
   "metadata": {},
   "outputs": [],
   "source": [
    "#Task #5\n",
    "# Data entry error was detected in the data and you are required to correct it. \n",
    "# If for any claim transaction “AUTHORITY_CONTACTED” is NOT “Police” and POLICE_AVAILABLE == 1\n",
    "# Then Update “AUTHORITY_CONTACTED” to Police.\n",
    "\n",
    "# using np.where to convert AUTHORITY_CONTACTED to police if condition satisfied\n",
    "df_final[\"AUTHORITY_CONTACTED\"]= np.where(df_final[\"AUTHORITY_CONTACTED\"] != \"Police\") and np.where(df_final[\"POLICE_REPORT_AVAILABLE\"]==1,\"Police\",df_final[\"AUTHORITY_CONTACTED\"])\n",
    "# reseting index\n",
    "df_final = df_final.reset_index(drop=True)"
   ]
  },
  {
   "cell_type": "code",
   "execution_count": 91,
   "id": "b4c21059",
   "metadata": {},
   "outputs": [
    {
     "name": "stderr",
     "output_type": "stream",
     "text": [
      "C:\\Users\\OMKAR\\AppData\\Local\\Temp\\ipykernel_9620\\169433895.py:21: FutureWarning: The default dtype for empty Series will be 'object' instead of 'float64' in a future version. Specify a dtype explicitly to silence this warning.\n",
      "  CLAIM_DEVIATION = pd.Series([])\n"
     ]
    }
   ],
   "source": [
    "# Task #6\n",
    "# Business wants to check the Claim Amount for deviation for each transaction, they would\n",
    "# like you to calculate as follow\n",
    "# CLAIM_DEVIATION = AVG_CLAIM_AMOUNT_FOR_LAST_30DAYS (same insurance type)\n",
    "# / CURRENT_CLAIM_AMOUNT\n",
    "# If the value < 0.5 THEN CLAIM_DEVIATION = 1 ELSE 0\n",
    "# If there is less than 30 days of transaction history THEN\n",
    "# -1 Note: LAST_30DAYS does not include current da\n",
    "\n",
    "\n",
    "# for above calculating the sorted table base on TXN_DATE_TIME and considering the INSURANCE_TYPE as DEVIATION\n",
    "\n",
    "# Converting the type of TXN_DATE_TIME column to datetime\n",
    "df_final[\"TXN_DATE_TIME\"] = pd.to_datetime(df_final[\"TXN_DATE_TIME\"])\n",
    "# sort the dataframe\n",
    "df_final = df_final.sort_values(by = [\"TXN_DATE_TIME\"], ascending = [False], na_position = \"first\")\n",
    "#reset index\n",
    "df_final = df_final.reset_index(drop=True)\n",
    "\n",
    "#created empty data series for pandas operation\n",
    "CLAIM_DEVIATION = pd.Series([])\n",
    "\n",
    "#using for loop to get values for CLAIM_DEVIATION\n",
    "# i range define as from 0 to length of dataframe-30\n",
    "for i in range(0,len(df_final)-30):\n",
    "    #creating variable\n",
    "    AVG_CLAIM_AMOUNT_FOR_LAST_30DAYS = 0\n",
    "    #applying filters\n",
    "    df_temp = df_final[df_final['INSURANCE_TYPE'][i]== df_final['INSURANCE_TYPE']]\n",
    "    #df_temp = df_temp.reset_index(drop=True)\n",
    "    df_temp = df_temp[df_final['TXN_DATE_TIME'][i] != df_temp['TXN_DATE_TIME']]\n",
    "    \n",
    "    if i>=1 :\n",
    "        df_temp = df_temp[df_temp['TXN_DATE_TIME']<df_final['TXN_DATE_TIME'][i-1]]\n",
    "    \n",
    "    df_temp = pd.pivot_table(df_temp, index=['TXN_DATE_TIME'],aggfunc=np.sum)\n",
    "    # finding current claim amount\n",
    "    CURRENT_CLAIM_AMOUNT = df_final['CLAIM_AMOUNT'][i]\n",
    "    # reset index\n",
    "    df_temp = df_temp.reset_index(drop=True)\n",
    "    # for loop with range of df_temp length\n",
    "    for t in range(len(df_temp)):\n",
    "        #print(t)\n",
    "        AVG_CLAIM_AMOUNT_FOR_LAST_30DAYS = df_temp['CLAIM_AMOUNT'][t]+AVG_CLAIM_AMOUNT_FOR_LAST_30DAYS\n",
    "        #applying conditions\n",
    "        if t==29:\n",
    "            CLAIM_DEVIATION_val = ((AVG_CLAIM_AMOUNT_FOR_LAST_30DAYS)/30)/CURRENT_CLAIM_AMOUNT\n",
    "            \n",
    "            if CLAIM_DEVIATION_val < 0.5:\n",
    "                CLAIM_DEVIATION[i] = 1\n",
    "            else:\n",
    "                CLAIM_DEVIATION[i] = 0\n",
    "                            \n",
    "            break\n",
    "# for loop for last less than 30 days\n",
    "for i in range(len(df_final)-30,len(df_final)):\n",
    "    CLAIM_DEVIATION[i] = -1\n",
    " \n",
    "    \n",
    "    #print(df_temp['CLAIM_AMOUNT'][i])\n",
    "#converting series into column                \n",
    "df_final['CLAIM_DEVIATION'] = pd.DataFrame(CLAIM_DEVIATION)   \n",
    "df_final = df_final.reset_index(drop=True)\n"
   ]
  },
  {
   "cell_type": "code",
   "execution_count": 92,
   "id": "583fa450",
   "metadata": {},
   "outputs": [
    {
     "name": "stdout",
     "output_type": "stream",
     "text": [
      "Agents who worked for more than 2 Insurance types are\n"
     ]
    },
    {
     "data": {
      "text/html": [
       "<div>\n",
       "<style scoped>\n",
       "    .dataframe tbody tr th:only-of-type {\n",
       "        vertical-align: middle;\n",
       "    }\n",
       "\n",
       "    .dataframe tbody tr th {\n",
       "        vertical-align: top;\n",
       "    }\n",
       "\n",
       "    .dataframe thead th {\n",
       "        text-align: right;\n",
       "    }\n",
       "</style>\n",
       "<table border=\"1\" class=\"dataframe\">\n",
       "  <thead>\n",
       "    <tr style=\"text-align: right;\">\n",
       "      <th></th>\n",
       "      <th>AGENT_NAME</th>\n",
       "    </tr>\n",
       "  </thead>\n",
       "  <tbody>\n",
       "    <tr>\n",
       "      <th>0</th>\n",
       "      <td>Don Filkins</td>\n",
       "    </tr>\n",
       "    <tr>\n",
       "      <th>1</th>\n",
       "      <td>Frank Kuss</td>\n",
       "    </tr>\n",
       "    <tr>\n",
       "      <th>2</th>\n",
       "      <td>Jean Cedeno</td>\n",
       "    </tr>\n",
       "    <tr>\n",
       "      <th>3</th>\n",
       "      <td>Salvador Soriano</td>\n",
       "    </tr>\n",
       "    <tr>\n",
       "      <th>4</th>\n",
       "      <td>Robert Ward</td>\n",
       "    </tr>\n",
       "    <tr>\n",
       "      <th>5</th>\n",
       "      <td>Clara Barnett</td>\n",
       "    </tr>\n",
       "    <tr>\n",
       "      <th>6</th>\n",
       "      <td>Don Ritchie</td>\n",
       "    </tr>\n",
       "    <tr>\n",
       "      <th>7</th>\n",
       "      <td>Freda Dudley</td>\n",
       "    </tr>\n",
       "    <tr>\n",
       "      <th>8</th>\n",
       "      <td>Jose Dame</td>\n",
       "    </tr>\n",
       "    <tr>\n",
       "      <th>9</th>\n",
       "      <td>Cleveland Feyh</td>\n",
       "    </tr>\n",
       "  </tbody>\n",
       "</table>\n",
       "</div>"
      ],
      "text/plain": [
       "         AGENT_NAME\n",
       "0       Don Filkins\n",
       "1        Frank Kuss\n",
       "2       Jean Cedeno\n",
       "3  Salvador Soriano\n",
       "4       Robert Ward\n",
       "5     Clara Barnett\n",
       "6       Don Ritchie\n",
       "7      Freda Dudley\n",
       "8         Jose Dame\n",
       "9    Cleveland Feyh"
      ]
     },
     "execution_count": 92,
     "metadata": {},
     "output_type": "execute_result"
    }
   ],
   "source": [
    "# Task #7\n",
    "# Find All Agents who have worked on more than 2 types of Insurance Claims. \n",
    "#Sort them by Total Claim Amount Approved under them in descending order\n",
    "\n",
    "# Creating a column for operation\n",
    "df_final[\"Type\"] = 1\n",
    "# getting only value when claim status is accepted\n",
    "df_claim_status = df_final[df_final.CLAIM_STATUS == \"A\"]\n",
    "#creating pivot table to get total claim amount and sum of insurance type wrt agent id\n",
    "df_pivot_Agents = pd.pivot_table(df_claim_status, index=[\"AGENT_NAME\"],values = [\"Type\",\"CLAIM_AMOUNT\"],aggfunc=np.sum)\n",
    "# applying condition that Agent type>2\n",
    "df_pivot_Agents = df_pivot_Agents[df_pivot_Agents[\"Type\"]>2]\n",
    "# sorting values wrt total claim amount\n",
    "df_pivot_Agents.sort_values('CLAIM_AMOUNT',axis = 0, ascending = False, inplace = True, na_position = \"first\")\n",
    "# printing top 10 pivot agents who worked for more than 2 Insurance type\n",
    "print(\"Agents who worked for more than 2 Insurance types are\")\n",
    "agent_name = pd.DataFrame(df_pivot_Agents.head(10).index)\n",
    "agent_name"
   ]
  },
  {
   "cell_type": "code",
   "execution_count": 93,
   "id": "52af0735",
   "metadata": {},
   "outputs": [
    {
     "name": "stdout",
     "output_type": "stream",
     "text": [
      " The Change in Percentage Is 2.56%\n"
     ]
    }
   ],
   "source": [
    "# Task #8\n",
    "# Mobile & Travel Insurance premium are discounted by 10%\n",
    "# Health and Property Insurance premium are increased by 7%\n",
    "# Life and Motor Insurance premium are marginally increased by 2%\n",
    "# What will be overall change in % of the Premium Amount Collected for all these Customer?\n",
    "\n",
    "# using np.where function to create new column DISCOUNTED_PREMIUM\n",
    "df_final[\"DISCOUNTED_PREMIUM\"] = np.where(df_final[\"INSURANCE_TYPE\"] == \"Mobile\",(df_final[\"PREMIUM_AMOUNT\"]-df_final[\"PREMIUM_AMOUNT\"]*0.10),0)\n",
    "df_final[\"DISCOUNTED_PREMIUM\"] = np.where(df_final[\"INSURANCE_TYPE\"] == \"Travel\",(df_final[\"PREMIUM_AMOUNT\"]-df_final[\"PREMIUM_AMOUNT\"]*0.10),df_final[\"DISCOUNTED_PREMIUM\"])\n",
    "df_final[\"DISCOUNTED_PREMIUM\"] = np.where(df_final[\"INSURANCE_TYPE\"] == \"Health\",(df_final[\"PREMIUM_AMOUNT\"]*1.07),df_final[\"DISCOUNTED_PREMIUM\"])\n",
    "df_final[\"DISCOUNTED_PREMIUM\"] = np.where(df_final[\"INSURANCE_TYPE\"] == \"Property\",(df_final[\"PREMIUM_AMOUNT\"]*1.07),df_final[\"DISCOUNTED_PREMIUM\"])\n",
    "df_final[\"DISCOUNTED_PREMIUM\"] = np.where(df_final[\"INSURANCE_TYPE\"] == \"Life\",(df_final[\"PREMIUM_AMOUNT\"]*1.02),df_final[\"DISCOUNTED_PREMIUM\"])\n",
    "df_final[\"DISCOUNTED_PREMIUM\"] = np.where(df_final[\"INSURANCE_TYPE\"] == \"Motor\",(df_final[\"PREMIUM_AMOUNT\"]*1.02),df_final[\"DISCOUNTED_PREMIUM\"])\n",
    "\n",
    "# Increase = diff between two values(new-old)\n",
    "Increase = df_final[\"DISCOUNTED_PREMIUM\"].sum()-df_final[\"PREMIUM_AMOUNT\"].sum()\n",
    "# IncreasePercentage = Increase/Originalno.*100\n",
    "IncreasePerventage = (Increase/df_final[\"DISCOUNTED_PREMIUM\"].sum())*100\n",
    "# Printing Change in Percentage\n",
    "IncreasePerventage = format(IncreasePerventage,\".2f\")\n",
    "print(f\" The Change in Percentage Is {IncreasePerventage}%\")\n",
    "\n"
   ]
  },
  {
   "cell_type": "code",
   "execution_count": 94,
   "id": "ec923389",
   "metadata": {},
   "outputs": [
    {
     "name": "stdout",
     "output_type": "stream",
     "text": [
      "The Mean Of The ELIGIBLE_FOR_DISCOUNT Column Is 0.66\n"
     ]
    }
   ],
   "source": [
    "# Task #9\n",
    "# Business wants to give discount to customer who are loyal and under stress due to Covid\n",
    "# 19. They have laid down an eligibility Criteria as follow\n",
    "# IF CUSTOMER_TENURE > 60 AND EMPLOYMENT_STATUS = “N”\n",
    "# AND NO_OF_FAMILY_MEMBERS >=4 THEN 1 ELSE 0\n",
    "# Create a new column “ELIGIBLE_FOR_DISCOUNT” and find it mean\n",
    "\n",
    "# using np.where applying all the conditions for ELIGIBLE_FOR_DISCOUNT Column\n",
    "df_final['ELIGIBLE_FOR_DISCOUNT'] =  np.where(df_final[\"TENURE\"] >60 ) and np.where( df_final[\"EMPLOYMENT_STATUS\"] == 'N') and np.where( df_final[\"NO_OF_FAMILY_MEMBERS\"] >= 4,1,0)\n",
    "# reseting index\n",
    "df_final = df_final.reset_index(drop=True)\n",
    "# finding mean of the column\n",
    "ELIGIBLE_FOR_DISCOUNT = df_final['ELIGIBLE_FOR_DISCOUNT'].mean()\n",
    "# printing mean in well format\n",
    "ELIGIBLE_FOR_DISCOUNT = format(ELIGIBLE_FOR_DISCOUNT,'.2f')\n",
    "\n",
    "print(f\"The Mean Of The ELIGIBLE_FOR_DISCOUNT Column Is {ELIGIBLE_FOR_DISCOUNT}\")\n",
    "     "
   ]
  },
  {
   "cell_type": "code",
   "execution_count": 95,
   "id": "c741a9f8",
   "metadata": {},
   "outputs": [
    {
     "name": "stderr",
     "output_type": "stream",
     "text": [
      "C:\\Users\\OMKAR\\AppData\\Local\\Temp\\ipykernel_9620\\2506511812.py:17: FutureWarning: The default dtype for empty Series will be 'object' instead of 'float64' in a future version. Specify a dtype explicitly to silence this warning.\n",
      "  CLAIM_VELOCITY = pd.Series([])\n"
     ]
    }
   ],
   "source": [
    "# Task #10\n",
    "# Business wants to check Claim Velocity which is defined as follow\n",
    "# CLAIM_VELOCITY = NO_OF_CLAIMS_IN_LAST30DAYS (for the current insurance type)\n",
    "# / NO_OF_CLAIMS_IN_LAST3DAYS (for the current insurance type)\n",
    "# Note: LAST30DAYS & LAST3DAYS does not include current\n",
    "# day\n",
    "\n",
    "\n",
    "# Converting the type of TXN_DATE_TIME column to datetime\n",
    "df_final['TXN_DATE_TIME'] = pd.to_datetime(df_final['TXN_DATE_TIME'])\n",
    "# sort the dataframe\n",
    "df_final = df_final.sort_values(by = ['TXN_DATE_TIME'], ascending = [False], na_position = 'first')\n",
    "# reset index\n",
    "df_final = df_final.reset_index(drop=True)\n",
    "\n",
    "#created empty data series for pandas operation\n",
    "CLAIM_VELOCITY = pd.Series([])\n",
    "\n",
    "# using for loop with i range of 0 to length of df_final-30\n",
    "for i in range(0,len(df_final)-30):\n",
    "    #creating empty list\n",
    "    df_temp = []\n",
    "    #creating variables\n",
    "    CLAIM_VELOCITY_NUM = 0\n",
    "    CLAIM_VELOCITY_val = 0\n",
    "    #applying filters\n",
    "    df_temp = df_final[df_final['INSURANCE_TYPE'][i]== df_final['INSURANCE_TYPE']]\n",
    "    df_temp = df_temp[df_final['TXN_DATE_TIME'][i] != df_temp['TXN_DATE_TIME']]\n",
    "    \n",
    "    if i>=1 :\n",
    "        df_temp = df_temp[df_temp['TXN_DATE_TIME']<df_final['TXN_DATE_TIME'][i-1]]\n",
    "    #creating pivot table    \n",
    "    df_temp = pd.pivot_table(df_temp, index=['TXN_DATE_TIME'],aggfunc=np.sum)\n",
    "    #reset index\n",
    "    df_temp = df_temp.reset_index(drop=True)\n",
    "    \n",
    "    # for loop with the length of df_temp\n",
    "    for t in range(len(df_temp)):\n",
    "        #print(t)\n",
    "        CLAIM_VELOCITY_NUM += 1\n",
    "        #applying conditions\n",
    "        if t==2:\n",
    "            CLAIM_VELOCITY_NUM_3 = CLAIM_VELOCITY_NUM\n",
    "            \n",
    "        if t==29:\n",
    "            CLAIM_VELOCITY_NUM_30 = CLAIM_VELOCITY_NUM\n",
    "            CLAIM_VELOCITY_val = (CLAIM_VELOCITY_NUM_30)/(CLAIM_VELOCITY_NUM_3)\n",
    "            CLAIM_VELOCITY[i] = CLAIM_VELOCITY_val\n",
    "            break\n",
    "# for loop for last less than 30 days        \n",
    "for i in range(len(df_final)-30,len(df_final)):\n",
    "    CLAIM_VELOCITY[i] = 0 \n",
    "    #print(df_temp['CLAIM_AMOUNT'][i])\n",
    "#converting series into column                \n",
    "df_final['CLAIM_VELOCITY'] = pd.DataFrame(CLAIM_VELOCITY)   \n",
    "df_final = df_final.reset_index(drop=True)"
   ]
  },
  {
   "cell_type": "code",
   "execution_count": 96,
   "id": "002917a7",
   "metadata": {},
   "outputs": [
    {
     "name": "stdout",
     "output_type": "stream",
     "text": [
      " The Low Performing Agets Are\n"
     ]
    },
    {
     "data": {
      "text/html": [
       "<div>\n",
       "<style scoped>\n",
       "    .dataframe tbody tr th:only-of-type {\n",
       "        vertical-align: middle;\n",
       "    }\n",
       "\n",
       "    .dataframe tbody tr th {\n",
       "        vertical-align: top;\n",
       "    }\n",
       "\n",
       "    .dataframe thead th {\n",
       "        text-align: right;\n",
       "    }\n",
       "</style>\n",
       "<table border=\"1\" class=\"dataframe\">\n",
       "  <thead>\n",
       "    <tr style=\"text-align: right;\">\n",
       "      <th></th>\n",
       "      <th>AGENT_ID</th>\n",
       "    </tr>\n",
       "  </thead>\n",
       "  <tbody>\n",
       "    <tr>\n",
       "      <th>0</th>\n",
       "      <td>AGENT01024</td>\n",
       "    </tr>\n",
       "    <tr>\n",
       "      <th>1</th>\n",
       "      <td>AGENT00120</td>\n",
       "    </tr>\n",
       "    <tr>\n",
       "      <th>2</th>\n",
       "      <td>AGENT00780</td>\n",
       "    </tr>\n",
       "    <tr>\n",
       "      <th>3</th>\n",
       "      <td>AGENT01154</td>\n",
       "    </tr>\n",
       "    <tr>\n",
       "      <th>4</th>\n",
       "      <td>AGENT00656</td>\n",
       "    </tr>\n",
       "    <tr>\n",
       "      <th>5</th>\n",
       "      <td>AGENT00645</td>\n",
       "    </tr>\n",
       "    <tr>\n",
       "      <th>6</th>\n",
       "      <td>AGENT00621</td>\n",
       "    </tr>\n",
       "    <tr>\n",
       "      <th>7</th>\n",
       "      <td>AGENT00958</td>\n",
       "    </tr>\n",
       "    <tr>\n",
       "      <th>8</th>\n",
       "      <td>AGENT00863</td>\n",
       "    </tr>\n",
       "    <tr>\n",
       "      <th>9</th>\n",
       "      <td>AGENT00253</td>\n",
       "    </tr>\n",
       "  </tbody>\n",
       "</table>\n",
       "</div>"
      ],
      "text/plain": [
       "     AGENT_ID\n",
       "0  AGENT01024\n",
       "1  AGENT00120\n",
       "2  AGENT00780\n",
       "3  AGENT01154\n",
       "4  AGENT00656\n",
       "5  AGENT00645\n",
       "6  AGENT00621\n",
       "7  AGENT00958\n",
       "8  AGENT00863\n",
       "9  AGENT00253"
      ]
     },
     "execution_count": 96,
     "metadata": {},
     "output_type": "execute_result"
    }
   ],
   "source": [
    "# Task #11\n",
    "# Find all low performing agents i.e. \n",
    "# employees who are in the bottom 5 percentile based on Claims worked by them.\n",
    "\n",
    "# Creating 1 Coumn as ClaimCount\n",
    "df_final[\"CLAIM_COUNT\"]=1\n",
    "# Using Groupby Func \n",
    "df_low_agents = df_final.groupby(\"AGENT_ID\")[\"CLAIM_COUNT\"].sum()\n",
    "# Finding 5th percentile Value\n",
    "percentile_5 = df_low_agents.quantile(q=[0.5])\n",
    "#Creating DataFrame\n",
    "df_low_agents = pd.DataFrame(df_low_agents)\n",
    "#Filter only Values which claim_count is less than equal to 5\n",
    "df_low_agents=df_low_agents[df_low_agents[\"CLAIM_COUNT\"]<=5]\n",
    "#Sorting Values\n",
    "df_low_agents =df_low_agents.sort_values(by = \"CLAIM_COUNT\")\n",
    "# Printing Agent Names\n",
    "print(f\" The Low Performing Agets Are\")\n",
    "\n",
    "Agents = pd.DataFrame(df_low_agents.head(10).index)\n",
    "Agents\n"
   ]
  },
  {
   "cell_type": "code",
   "execution_count": 97,
   "id": "5fa62fda",
   "metadata": {},
   "outputs": [
    {
     "name": "stderr",
     "output_type": "stream",
     "text": [
      "C:\\Users\\OMKAR\\AppData\\Local\\Temp\\ipykernel_9620\\786456629.py:14: FutureWarning: The default dtype for empty Series will be 'object' instead of 'float64' in a future version. Specify a dtype explicitly to silence this warning.\n",
      "  Suspicious = pd.Series([])\n"
     ]
    },
    {
     "name": "stdout",
     "output_type": "stream",
     "text": [
      "The Mean Of The Column Is 0.04\n"
     ]
    }
   ],
   "source": [
    "# Task #12\n",
    "# Business wants to find all Suspicious Employees (Agents).\n",
    "# IF TOTAL CLAIM AMOUNT which meet below criteria is >= 15000 THEN AGENT is classified\n",
    "# as Suspicious ELSE Not\n",
    "# CLAIM_STATUS = Approved AND CUSTOMER_RISK_SEGMENTATION = High\n",
    "# AND INCIDENT_SEVERITY = “Major Loss”\n",
    "# If Suspicious, then 1 ELSE 0. Find mean of this column\n",
    "\n",
    "\n",
    "# Creating pivot table\n",
    "df_pivot_agentclaim = pd.pivot_table(df_final,index = \"AGENT_NAME\",values = [\"CLAIM_AMOUNT\"],aggfunc=np.sum)\n",
    "\n",
    "#Creating empty series for pandas operation\n",
    "Suspicious = pd.Series([])\n",
    "# using for loop appending value in empty series\n",
    "for i in range(len(df_pivot_agentclaim)):\n",
    "    if df_pivot_agentclaim[\"CLAIM_AMOUNT\"][i]>= 15000:\n",
    "        Suspicious[i] = 1\n",
    "    else:\n",
    "        Suspicious[i] = 0\n",
    "#converting series as a df_final column        \n",
    "df_final[\"Suspicious\"] = pd.DataFrame(Suspicious)  \n",
    "\n",
    "#creating empty list    \n",
    "Suspicious_Employees = []\n",
    "#using for loop appending count in list\n",
    "for i in range(len(df_final)):\n",
    "    Suspicious_Employees_value = 0\n",
    "    if df_final[\"CLAIM_STATUS\"][i]== \"A\" and df_final[\"RISK_SEGMENTATION\"][i] == \"H\" and df_final[\"INCIDENT_SEVERITY\"][i]==\"Major Loss\" :\n",
    "        Suspicious_Employees_value += 1\n",
    "    else:\n",
    "        Suspicious_Employees_value = 0\n",
    "    # appending value in empty list    \n",
    "    Suspicious_Employees.append(Suspicious_Employees_value)    \n",
    "        \n",
    "#Finding mean of the columns\n",
    "Mean = sum(Suspicious_Employees)/len(Suspicious_Employees)\n",
    "Mean = format(Mean,\".2f\")\n",
    "print(f\"The Mean Of The Column Is {Mean}\")"
   ]
  },
  {
   "cell_type": "code",
   "execution_count": null,
   "id": "e25b89ef",
   "metadata": {},
   "outputs": [],
   "source": []
  },
  {
   "cell_type": "code",
   "execution_count": null,
   "id": "32a363e0",
   "metadata": {},
   "outputs": [],
   "source": []
  }
 ],
 "metadata": {
  "kernelspec": {
   "display_name": "Python 3 (ipykernel)",
   "language": "python",
   "name": "python3"
  },
  "language_info": {
   "codemirror_mode": {
    "name": "ipython",
    "version": 3
   },
   "file_extension": ".py",
   "mimetype": "text/x-python",
   "name": "python",
   "nbconvert_exporter": "python",
   "pygments_lexer": "ipython3",
   "version": "3.9.12"
  }
 },
 "nbformat": 4,
 "nbformat_minor": 5
}
